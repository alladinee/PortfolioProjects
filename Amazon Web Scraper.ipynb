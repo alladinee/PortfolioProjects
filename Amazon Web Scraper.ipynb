{
 "cells": [
  {
   "cell_type": "code",
   "execution_count": 69,
   "id": "24926433",
   "metadata": {},
   "outputs": [],
   "source": [
    "# import libraries \n",
    "\n",
    "from bs4 import BeautifulSoup\n",
    "import requests\n",
    "import time\n",
    "import datetime\n",
    "import csv\n",
    "\n",
    "import smtplib"
   ]
  },
  {
   "cell_type": "code",
   "execution_count": 92,
   "id": "1d68eafc",
   "metadata": {},
   "outputs": [
    {
     "name": "stdout",
     "output_type": "stream",
     "text": [
      "\n",
      "                   Data Analyst Gift - Data Analysis Shirt - Data Scientist Present - Funny Data Science - Burn Off The Crazy - Unisex Tee\n",
      "                  \n",
      "\n",
      "                  $22.50\n",
      "                 \n",
      "\n",
      "                    Black\n",
      "                   \n",
      "\n",
      "                  Brand: realpeoplegoods\n",
      "                 \n"
     ]
    }
   ],
   "source": [
    "# Connect to website\n",
    "\n",
    "URL = 'https://www.amazon.com/Data-Analyst-Gift-Analysis-Scientist/dp/B09339NJYL/ref=sr_1_9?crid=31ZIT3Z33TEBF&keywords=data%2Bscience%2Btshirt&qid=1683215137&sprefix=data%2Btshirt%2Caps%2C243&sr=8-9&th=1&psc=1' \n",
    "headers = { \"User-Agent\": \"Mozilla/5.0 (Windows NT 10.0; Win64; x64) AppleWebKit/537.36 (KHTML, like Gecko) Chrome/112.0.0.0 Safari/537.36 Edg/112.0.1722.68\", \"Accept-Encoding\":\"gzip, deflate\", \"Accept\":\"text/html,application/xhtml+xml,application/xml;q=0.9,*/*;q=0.8\", \"DNT\":\"1\",\"Connection\":\"close\", \"Upgrade-Insecure-Requests\":\"1\"}\n",
    "\n",
    "page = requests.get(URL, headers=headers)\n",
    "\n",
    "soup1 = BeautifulSoup(page.content, \"html.parser\")\n",
    "soup2 = BeautifulSoup(soup1.prettify(),\"html.parser\")\n",
    "\n",
    "title = soup2.find(id='productTitle').get_text()\n",
    "price_span = soup2.find('span', {'class': 'a-offscreen'}).get_text()\n",
    "color = soup2.find(id=\"inline-twister-expanded-dimension-text-color_name\").get_text()\n",
    "Brand = soup2.find(id='bylineInfo').get_text()\n",
    "\n",
    "print(title)\n",
    "print(price_span)\n",
    "print(color)\n",
    "print(Brand)"
   ]
  },
  {
   "cell_type": "code",
   "execution_count": 93,
   "id": "48879b76",
   "metadata": {},
   "outputs": [
    {
     "name": "stdout",
     "output_type": "stream",
     "text": [
      "Data Analyst Gift - Data Analysis Shirt - Data Scientist Present - Funny Data Science - Burn Off The Crazy - Unisex Tee\n",
      "22.50\n",
      "Black\n",
      "realpeoplegoods\n"
     ]
    }
   ],
   "source": [
    "# Clean up the data a little bit\n",
    "\n",
    "price = price_span.strip()[1:]\n",
    "title = title.strip()\n",
    "Brand = Brand.strip()[7:]\n",
    "print(title)\n",
    "print(price)\n",
    "print(Color)\n",
    "print(Brand)"
   ]
  },
  {
   "cell_type": "code",
   "execution_count": 51,
   "id": "64a88f54",
   "metadata": {},
   "outputs": [
    {
     "name": "stdout",
     "output_type": "stream",
     "text": [
      "2023-05-04\n"
     ]
    }
   ],
   "source": [
    "Today = datetime.date.today()\n",
    "print(Today)"
   ]
  },
  {
   "cell_type": "code",
   "execution_count": 110,
   "id": "efdcd177",
   "metadata": {},
   "outputs": [],
   "source": [
    "header = ['Title','Price','Brand','Date']\n",
    "data = [title,price,Brand,Today]\n",
    "\n",
    "with open('Amazon WebScraper Dataset.csv', 'w', newline='', encoding='UTF8') as f:\n",
    "    writer = csv.writer(f)\n",
    "    writer.writerow(header)\n",
    "    writer.writerow(data)"
   ]
  },
  {
   "cell_type": "code",
   "execution_count": 111,
   "id": "0c9afac5",
   "metadata": {},
   "outputs": [
    {
     "data": {
      "text/html": [
       "<div>\n",
       "<style scoped>\n",
       "    .dataframe tbody tr th:only-of-type {\n",
       "        vertical-align: middle;\n",
       "    }\n",
       "\n",
       "    .dataframe tbody tr th {\n",
       "        vertical-align: top;\n",
       "    }\n",
       "\n",
       "    .dataframe thead th {\n",
       "        text-align: right;\n",
       "    }\n",
       "</style>\n",
       "<table border=\"1\" class=\"dataframe\">\n",
       "  <thead>\n",
       "    <tr style=\"text-align: right;\">\n",
       "      <th></th>\n",
       "      <th>Title</th>\n",
       "      <th>Price</th>\n",
       "      <th>Brand</th>\n",
       "      <th>Date</th>\n",
       "    </tr>\n",
       "  </thead>\n",
       "  <tbody>\n",
       "    <tr>\n",
       "      <th>0</th>\n",
       "      <td>Data Analyst Gift - Data Analysis Shirt - Data...</td>\n",
       "      <td>22.5</td>\n",
       "      <td>realpeoplegoods</td>\n",
       "      <td>2023-05-04</td>\n",
       "    </tr>\n",
       "  </tbody>\n",
       "</table>\n",
       "</div>"
      ],
      "text/plain": [
       "                                               Title  Price            Brand  \\\n",
       "0  Data Analyst Gift - Data Analysis Shirt - Data...   22.5  realpeoplegoods   \n",
       "\n",
       "         Date  \n",
       "0  2023-05-04  "
      ]
     },
     "execution_count": 111,
     "metadata": {},
     "output_type": "execute_result"
    }
   ],
   "source": [
    "import pandas as pd\n",
    "\n",
    "df = pd.read_csv(r'C:\\Users\\s\\Amazon WebScraper Dataset.csv')\n",
    "df"
   ]
  },
  {
   "cell_type": "code",
   "execution_count": 112,
   "id": "a1e4b3e4",
   "metadata": {},
   "outputs": [],
   "source": [
    "def check_price():\n",
    "    URL = 'https://www.amazon.com/Data-Analyst-Gift-Analysis-Scientist/dp/B09339NJYL/ref=sr_1_9?crid=31ZIT3Z33TEBF&keywords=data%2Bscience%2Btshirt&qid=1683215137&sprefix=data%2Btshirt%2Caps%2C243&sr=8-9&th=1&psc=1' \n",
    "    headers = { \"User-Agent\": \"Mozilla/5.0 (Windows NT 10.0; Win64; x64) AppleWebKit/537.36 (KHTML, like Gecko) Chrome/112.0.0.0 Safari/537.36 Edg/112.0.1722.68\", \"Accept-Encoding\":\"gzip, deflate\", \"Accept\":\"text/html,application/xhtml+xml,application/xml;q=0.9,*/*;q=0.8\", \"DNT\":\"1\",\"Connection\":\"close\", \"Upgrade-Insecure-Requests\":\"1\"}\n",
    "\n",
    "    page = requests.get(URL, headers=headers)\n",
    "\n",
    "    soup1 = BeautifulSoup(page.content, \"html.parser\")\n",
    "    soup2 = BeautifulSoup(soup1.prettify(),\"html.parser\")\n",
    "\n",
    "    title = soup2.find(id='productTitle').get_text()\n",
    "    price_span = soup2.find('span', {'class': 'a-offscreen'}).get_text()\n",
    "    Brand = soup2.find(id='bylineInfo').get_text()\n",
    "    \n",
    "    price = price_span.strip()[1:]\n",
    "    title = title.strip()\n",
    "    Brand = Brand.strip()[7:]\n",
    "    \n",
    "    Today = datetime.date.today()\n",
    "\n",
    "    header = ['Title','Price','Brand','Date']\n",
    "    data = [title,price,Brand,Today]\n",
    "    \n",
    "    with open('Amazon WebScraper Dataset.csv', 'a+', newline='', encoding='UTF8') as f:\n",
    "        writer = csv.writer(f)\n",
    "        writer.writerow(data)"
   ]
  },
  {
   "cell_type": "code",
   "execution_count": 113,
   "id": "9d48d803",
   "metadata": {},
   "outputs": [
    {
     "ename": "KeyboardInterrupt",
     "evalue": "",
     "output_type": "error",
     "traceback": [
      "\u001b[1;31m---------------------------------------------------------------------------\u001b[0m",
      "\u001b[1;31mKeyboardInterrupt\u001b[0m                         Traceback (most recent call last)",
      "\u001b[1;32m~\\AppData\\Local\\Temp\\ipykernel_6568\\4212351095.py\u001b[0m in \u001b[0;36m<module>\u001b[1;34m\u001b[0m\n\u001b[0;32m      1\u001b[0m \u001b[1;32mwhile\u001b[0m\u001b[1;33m(\u001b[0m\u001b[1;32mTrue\u001b[0m\u001b[1;33m)\u001b[0m\u001b[1;33m:\u001b[0m\u001b[1;33m\u001b[0m\u001b[1;33m\u001b[0m\u001b[0m\n\u001b[0;32m      2\u001b[0m     \u001b[0mcheck_price\u001b[0m\u001b[1;33m(\u001b[0m\u001b[1;33m)\u001b[0m\u001b[1;33m\u001b[0m\u001b[1;33m\u001b[0m\u001b[0m\n\u001b[1;32m----> 3\u001b[1;33m     \u001b[0mtime\u001b[0m\u001b[1;33m.\u001b[0m\u001b[0msleep\u001b[0m\u001b[1;33m(\u001b[0m\u001b[1;36m5\u001b[0m\u001b[1;33m)\u001b[0m\u001b[1;33m\u001b[0m\u001b[1;33m\u001b[0m\u001b[0m\n\u001b[0m",
      "\u001b[1;31mKeyboardInterrupt\u001b[0m: "
     ]
    }
   ],
   "source": [
    "# Check the price every single day\n",
    "\n",
    "while(True):\n",
    "    check_price()\n",
    "    time.sleep(86400)"
   ]
  },
  {
   "cell_type": "code",
   "execution_count": 114,
   "id": "f77b6ddf",
   "metadata": {},
   "outputs": [
    {
     "data": {
      "text/html": [
       "<div>\n",
       "<style scoped>\n",
       "    .dataframe tbody tr th:only-of-type {\n",
       "        vertical-align: middle;\n",
       "    }\n",
       "\n",
       "    .dataframe tbody tr th {\n",
       "        vertical-align: top;\n",
       "    }\n",
       "\n",
       "    .dataframe thead th {\n",
       "        text-align: right;\n",
       "    }\n",
       "</style>\n",
       "<table border=\"1\" class=\"dataframe\">\n",
       "  <thead>\n",
       "    <tr style=\"text-align: right;\">\n",
       "      <th></th>\n",
       "      <th>Title</th>\n",
       "      <th>Price</th>\n",
       "      <th>Brand</th>\n",
       "      <th>Date</th>\n",
       "    </tr>\n",
       "  </thead>\n",
       "  <tbody>\n",
       "    <tr>\n",
       "      <th>0</th>\n",
       "      <td>Data Analyst Gift - Data Analysis Shirt - Data...</td>\n",
       "      <td>22.5</td>\n",
       "      <td>realpeoplegoods</td>\n",
       "      <td>2023-05-04</td>\n",
       "    </tr>\n",
       "    <tr>\n",
       "      <th>1</th>\n",
       "      <td>Data Analyst Gift - Data Analysis Shirt - Data...</td>\n",
       "      <td>22.5</td>\n",
       "      <td>realpeoplegoods</td>\n",
       "      <td>2023-05-04</td>\n",
       "    </tr>\n",
       "    <tr>\n",
       "      <th>2</th>\n",
       "      <td>Data Analyst Gift - Data Analysis Shirt - Data...</td>\n",
       "      <td>22.5</td>\n",
       "      <td>realpeoplegoods</td>\n",
       "      <td>2023-05-04</td>\n",
       "    </tr>\n",
       "    <tr>\n",
       "      <th>3</th>\n",
       "      <td>Data Analyst Gift - Data Analysis Shirt - Data...</td>\n",
       "      <td>22.5</td>\n",
       "      <td>realpeoplegoods</td>\n",
       "      <td>2023-05-04</td>\n",
       "    </tr>\n",
       "    <tr>\n",
       "      <th>4</th>\n",
       "      <td>Data Analyst Gift - Data Analysis Shirt - Data...</td>\n",
       "      <td>22.5</td>\n",
       "      <td>realpeoplegoods</td>\n",
       "      <td>2023-05-04</td>\n",
       "    </tr>\n",
       "    <tr>\n",
       "      <th>5</th>\n",
       "      <td>Data Analyst Gift - Data Analysis Shirt - Data...</td>\n",
       "      <td>22.5</td>\n",
       "      <td>realpeoplegoods</td>\n",
       "      <td>2023-05-04</td>\n",
       "    </tr>\n",
       "    <tr>\n",
       "      <th>6</th>\n",
       "      <td>Data Analyst Gift - Data Analysis Shirt - Data...</td>\n",
       "      <td>22.5</td>\n",
       "      <td>realpeoplegoods</td>\n",
       "      <td>2023-05-04</td>\n",
       "    </tr>\n",
       "    <tr>\n",
       "      <th>7</th>\n",
       "      <td>Data Analyst Gift - Data Analysis Shirt - Data...</td>\n",
       "      <td>22.5</td>\n",
       "      <td>realpeoplegoods</td>\n",
       "      <td>2023-05-04</td>\n",
       "    </tr>\n",
       "    <tr>\n",
       "      <th>8</th>\n",
       "      <td>Data Analyst Gift - Data Analysis Shirt - Data...</td>\n",
       "      <td>22.5</td>\n",
       "      <td>realpeoplegoods</td>\n",
       "      <td>2023-05-04</td>\n",
       "    </tr>\n",
       "    <tr>\n",
       "      <th>9</th>\n",
       "      <td>Data Analyst Gift - Data Analysis Shirt - Data...</td>\n",
       "      <td>22.5</td>\n",
       "      <td>realpeoplegoods</td>\n",
       "      <td>2023-05-04</td>\n",
       "    </tr>\n",
       "    <tr>\n",
       "      <th>10</th>\n",
       "      <td>Data Analyst Gift - Data Analysis Shirt - Data...</td>\n",
       "      <td>22.5</td>\n",
       "      <td>realpeoplegoods</td>\n",
       "      <td>2023-05-04</td>\n",
       "    </tr>\n",
       "    <tr>\n",
       "      <th>11</th>\n",
       "      <td>Data Analyst Gift - Data Analysis Shirt - Data...</td>\n",
       "      <td>22.5</td>\n",
       "      <td>realpeoplegoods</td>\n",
       "      <td>2023-05-04</td>\n",
       "    </tr>\n",
       "    <tr>\n",
       "      <th>12</th>\n",
       "      <td>Data Analyst Gift - Data Analysis Shirt - Data...</td>\n",
       "      <td>22.5</td>\n",
       "      <td>realpeoplegoods</td>\n",
       "      <td>2023-05-04</td>\n",
       "    </tr>\n",
       "    <tr>\n",
       "      <th>13</th>\n",
       "      <td>Data Analyst Gift - Data Analysis Shirt - Data...</td>\n",
       "      <td>22.5</td>\n",
       "      <td>realpeoplegoods</td>\n",
       "      <td>2023-05-04</td>\n",
       "    </tr>\n",
       "  </tbody>\n",
       "</table>\n",
       "</div>"
      ],
      "text/plain": [
       "                                                Title  Price            Brand  \\\n",
       "0   Data Analyst Gift - Data Analysis Shirt - Data...   22.5  realpeoplegoods   \n",
       "1   Data Analyst Gift - Data Analysis Shirt - Data...   22.5  realpeoplegoods   \n",
       "2   Data Analyst Gift - Data Analysis Shirt - Data...   22.5  realpeoplegoods   \n",
       "3   Data Analyst Gift - Data Analysis Shirt - Data...   22.5  realpeoplegoods   \n",
       "4   Data Analyst Gift - Data Analysis Shirt - Data...   22.5  realpeoplegoods   \n",
       "5   Data Analyst Gift - Data Analysis Shirt - Data...   22.5  realpeoplegoods   \n",
       "6   Data Analyst Gift - Data Analysis Shirt - Data...   22.5  realpeoplegoods   \n",
       "7   Data Analyst Gift - Data Analysis Shirt - Data...   22.5  realpeoplegoods   \n",
       "8   Data Analyst Gift - Data Analysis Shirt - Data...   22.5  realpeoplegoods   \n",
       "9   Data Analyst Gift - Data Analysis Shirt - Data...   22.5  realpeoplegoods   \n",
       "10  Data Analyst Gift - Data Analysis Shirt - Data...   22.5  realpeoplegoods   \n",
       "11  Data Analyst Gift - Data Analysis Shirt - Data...   22.5  realpeoplegoods   \n",
       "12  Data Analyst Gift - Data Analysis Shirt - Data...   22.5  realpeoplegoods   \n",
       "13  Data Analyst Gift - Data Analysis Shirt - Data...   22.5  realpeoplegoods   \n",
       "\n",
       "          Date  \n",
       "0   2023-05-04  \n",
       "1   2023-05-04  \n",
       "2   2023-05-04  \n",
       "3   2023-05-04  \n",
       "4   2023-05-04  \n",
       "5   2023-05-04  \n",
       "6   2023-05-04  \n",
       "7   2023-05-04  \n",
       "8   2023-05-04  \n",
       "9   2023-05-04  \n",
       "10  2023-05-04  \n",
       "11  2023-05-04  \n",
       "12  2023-05-04  \n",
       "13  2023-05-04  "
      ]
     },
     "execution_count": 114,
     "metadata": {},
     "output_type": "execute_result"
    }
   ],
   "source": [
    "df = pd.read_csv(r'C:\\Users\\s\\Amazon WebScraper Dataset.csv')\n",
    "df"
   ]
  },
  {
   "cell_type": "code",
   "execution_count": 115,
   "id": "98706f60",
   "metadata": {},
   "outputs": [],
   "source": [
    "# Sending  an email (for yourself) when a price hits below a certain level \n",
    "\n",
    "\n",
    "\n",
    "def send_mail():\n",
    "    server = smtplib.SMTP_SSL('smtp.gmail.com',465)\n",
    "    server.ehlo()\n",
    "    #server.starttls()\n",
    "    server.ehlo()\n",
    "    server.login('ThisIsMyEmail@gmail.com','xxxxxxxxxxxxxx')\n",
    "    \n",
    "    subject = \"The Shirt you want is below $15! Now is your chance to buy!\"\n",
    "    body = \"Hi! This is the moment we have been waiting for. Now is your chance to pick up the shirt of your dreams. Don't mess it up! Link here: ****\"\n",
    "   \n",
    "    msg = f\"Subject: {subject}\\n\\n{body}\"\n",
    "    \n",
    "    server.sendmail(\n",
    "        'YouEmailHere@gmail.com',\n",
    "        msg\n",
    "     \n",
    "    )"
   ]
  },
  {
   "cell_type": "code",
   "execution_count": null,
   "id": "5fa63d5d",
   "metadata": {},
   "outputs": [],
   "source": []
  }
 ],
 "metadata": {
  "kernelspec": {
   "display_name": "Python 3 (ipykernel)",
   "language": "python",
   "name": "python3"
  },
  "language_info": {
   "codemirror_mode": {
    "name": "ipython",
    "version": 3
   },
   "file_extension": ".py",
   "mimetype": "text/x-python",
   "name": "python",
   "nbconvert_exporter": "python",
   "pygments_lexer": "ipython3",
   "version": "3.9.13"
  }
 },
 "nbformat": 4,
 "nbformat_minor": 5
}
